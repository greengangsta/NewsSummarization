{
 "cells": [
  {
   "cell_type": "code",
   "execution_count": 36,
   "metadata": {},
   "outputs": [
    {
     "name": "stdout",
     "output_type": "stream",
     "text": [
      "[nltk_data] Error loading stopwords: <urlopen error [Errno 11001]\n",
      "[nltk_data]     getaddrinfo failed>\n"
     ]
    },
    {
     "data": {
      "text/plain": [
       "False"
      ]
     },
     "execution_count": 36,
     "metadata": {},
     "output_type": "execute_result"
    }
   ],
   "source": [
    "import numpy as np\n",
    "import pandas as pd\n",
    "import matplotlib.pyplot as plt\n",
    "import nltk\n",
    "import re\n",
    "import bs4 as bs\n",
    "import os\n",
    "import heapq\n",
    "nltk.download('stopwords')"
   ]
  },
  {
   "cell_type": "code",
   "execution_count": 37,
   "metadata": {},
   "outputs": [],
   "source": [
    "article = \"\"\n",
    "with open(os.path.join(\"entertainment/001.txt\"),encoding=\"utf-8\") as f:\n",
    "\tfor line in f:\n",
    "\t\tarticle += str(line)"
   ]
  },
  {
   "cell_type": "code",
   "execution_count": 38,
   "metadata": {},
   "outputs": [],
   "source": [
    "article = re.sub(r'\\s+',' ',article)\n",
    "\n",
    "clean_article = re.sub(r'\\W',' ',article)\n",
    "clean_article = re.sub(r'\\d',' ',clean_article)\n",
    "clean_article = re.sub(r'\\s+',' ',clean_article)\n"
   ]
  },
  {
   "cell_type": "code",
   "execution_count": 39,
   "metadata": {},
   "outputs": [],
   "source": [
    "sentences = nltk.sent_tokenize(article)\n",
    "\n",
    "stop_words = nltk.corpus.stopwords.words('english')"
   ]
  },
  {
   "cell_type": "code",
   "execution_count": 40,
   "metadata": {},
   "outputs": [],
   "source": [
    "\n",
    "word2count = {}\n",
    "\n",
    "for word in nltk.word_tokenize(clean_article):\n",
    "\tif word not in stop_words:\n",
    "\t\tif word not in word2count.keys():\n",
    "\t\t\tword2count[word] = 1\n",
    "\t\telse:\n",
    "\t\t\tword2count[word] += 1\n",
    "\t\t\t"
   ]
  },
  {
   "cell_type": "code",
   "execution_count": 41,
   "metadata": {},
   "outputs": [],
   "source": [
    "for key in word2count.keys():\n",
    "\tword2count[key] = word2count[key]/max(word2count.values())"
   ]
  },
  {
   "cell_type": "code",
   "execution_count": 42,
   "metadata": {},
   "outputs": [],
   "source": [
    "sent2score  = {}\n",
    "for sentence in sentences:\n",
    "\tfor word in nltk.word_tokenize(sentence.lower()):\n",
    "\t\tif word in word2count.keys():\n",
    "\t\t\tif len(sentence.split(' ')) < 25:\n",
    "\t\t\t\tif sentence not in sent2score.keys():\n",
    "\t\t\t\t\tsent2score[sentence] = word2count[word]\n",
    "\t\t\t\telse:\n",
    "\t\t\t\t\tsent2score[sentence] += word2count[word]"
   ]
  },
  {
   "cell_type": "code",
   "execution_count": 43,
   "metadata": {},
   "outputs": [],
   "source": [
    "best_sentences = heapq.nlargest(3,sent2score,key = sent2score.get)\n",
    "\n",
    "summary = \"\"\n",
    "\n",
    "for sentence in best_sentences:\n",
    "\tsummary += str(sentence)"
   ]
  },
  {
   "cell_type": "code",
   "execution_count": 44,
   "metadata": {},
   "outputs": [
    {
     "name": "stdout",
     "output_type": "stream",
     "text": [
      "Wentworth is also known for his photography of mundane, everyday subjects such as a cigarette packet jammed under the wonky leg of a table.Its light bulb adornments are dimmed, ordinary domestic ones joined together with string.His reputation as a sculptor grew in the 1980s, while he has been one of the most influential teachers during the last two decades.\n"
     ]
    }
   ],
   "source": [
    "print(summary)"
   ]
  },
  {
   "cell_type": "code",
   "execution_count": null,
   "metadata": {},
   "outputs": [],
   "source": []
  }
 ],
 "metadata": {
  "kernelspec": {
   "display_name": "Python 3",
   "language": "python",
   "name": "python3"
  },
  "language_info": {
   "codemirror_mode": {
    "name": "ipython",
    "version": 3
   },
   "file_extension": ".py",
   "mimetype": "text/x-python",
   "name": "python",
   "nbconvert_exporter": "python",
   "pygments_lexer": "ipython3",
   "version": "3.7.0"
  }
 },
 "nbformat": 4,
 "nbformat_minor": 2
}
